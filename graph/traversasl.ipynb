{
 "cells": [
  {
   "cell_type": "code",
   "execution_count": 10,
   "metadata": {},
   "outputs": [
    {
     "name": "stdout",
     "output_type": "stream",
     "text": [
      "0  ->  1 -> 2\n",
      "1  ->  2\n",
      "2  ->  0 -> 3\n",
      "3  ->  3\n",
      "BFS:\n",
      "2 0 3 1 2 \n",
      "DFS:\n",
      "0 1 2 3 "
     ]
    }
   ],
   "source": [
    "#BFS and DFS\n",
    "class graph():\n",
    "    def __init__(self):\n",
    "        self.vertex={}\n",
    "    def add_edge(self, fromvertex,tovertex):\n",
    "        if(fromvertex in self.vertex.keys()):\n",
    "            self.vertex[fromvertex].append(tovertex)\n",
    "        else:\n",
    "            self.vertex[fromvertex]=[tovertex]\n",
    "    def printGraph(self):\n",
    "        for i in self.vertex.keys():\n",
    "            print(i,' -> ', ' -> '.join([str(j) for j in self.vertex[i]]))\n",
    "    def bfs(self,startvertex):\n",
    "        visited = [False] * len(self.vertex)\n",
    "        queue=[]\n",
    "        queue.append(startvertex)\n",
    "        while queue:\n",
    "            startvertex = queue.pop(0)\n",
    "            print(startvertex, end = ' ')\n",
    "            for i in self.vertex[startvertex]:\n",
    "                if visited[i] == False:\n",
    "                    queue.append(i)\n",
    "                    visited[i] = True\n",
    "    \n",
    "    def dfs(self):\n",
    "        # visited array for storing already visited nodes\n",
    "        visited = [False] * len(self.vertex)\n",
    "\n",
    "        # call the recursive helper function\n",
    "        for i in range(len(self.vertex)):\n",
    "            if visited[i] == False:\n",
    "                self.dfsrec(i, visited)\n",
    "\n",
    "    def dfsrec(self, startvertex, visited):\n",
    "        # mark start vertex as visited\n",
    "        visited[startvertex] = True\n",
    "\n",
    "        print(startvertex, end = ' ')\n",
    "\n",
    "        # Recur for all the vertexes that are adjacent to this node\n",
    "        for i in self.vertex.keys():\n",
    "            if visited[i] == False:\n",
    "                self.dfsrec(i, visited)    \n",
    "\n",
    "if __name__ == '__main__':\n",
    "    g = graph()\n",
    "    g.add_edge(0, 1)\n",
    "    g.add_edge(0, 2)\n",
    "    g.add_edge(1, 2)\n",
    "    g.add_edge(2, 0)\n",
    "    g.add_edge(2, 3)\n",
    "    g.add_edge(3, 3)\n",
    "\n",
    "    g.printGraph()\n",
    "    print('BFS:')\n",
    "    g.bfs(2) \n",
    "    print('\\nDFS:')\n",
    "    g.dfs()"
   ]
  },
  {
   "cell_type": "code",
   "execution_count": null,
   "metadata": {},
   "outputs": [],
   "source": []
  }
 ],
 "metadata": {
  "kernelspec": {
   "display_name": "Python 3",
   "language": "python",
   "name": "python3"
  },
  "language_info": {
   "codemirror_mode": {
    "name": "ipython",
    "version": 3
   },
   "file_extension": ".py",
   "mimetype": "text/x-python",
   "name": "python",
   "nbconvert_exporter": "python",
   "pygments_lexer": "ipython3",
   "version": "3.7.6"
  }
 },
 "nbformat": 4,
 "nbformat_minor": 2
}
