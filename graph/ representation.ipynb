{
 "cells": [
  {
   "cell_type": "code",
   "execution_count": 25,
   "metadata": {},
   "outputs": [
    {
     "name": "stdout",
     "output_type": "stream",
     "text": [
      "1 -> 0 -> 1 -> 1 -> 0\n",
      "2 -> 0 -> 0 -> 1 -> 0\n",
      "3 -> 0 -> 0 -> 0 -> 0\n",
      "4 -> 0 -> 0 -> 0 -> 0\n"
     ]
    }
   ],
   "source": [
    "class adjancey_list(object):\n",
    "    def __init__(self,n=0):\n",
    "        self.List={}\n",
    "        self.n=n\n",
    "    def initialize_vertex (self):\n",
    "        for i in range(1,self.n+1):\n",
    "            self.List[i]=[0 for j in range(self.n)]\n",
    "    def add_edge(self, fromvertex,tovertex):\n",
    "        if(tovertex>self.n or fromvertex>self.n or tovertex<0 or fromvertex<0):\n",
    "            print(\"error\")\n",
    "        else:\n",
    "            self.List[fromvertex].insert((tovertex-1),1)\n",
    "            del self.List[fromvertex][tovertex]\n",
    "    def printList(self):\n",
    "        for i  in self.List:\n",
    "            print(i,'->',' -> '.join([str(j) for j in self.List[i]]))\n",
    "if __name__== \"__main__\":\n",
    "    a1=adjancey_list(4)\n",
    "    a1.initialize_vertex()\n",
    "    a1.add_edge(2,3)\n",
    "    a1.add_edge(1,3)\n",
    "    a1.add_edge(1,2)\n",
    "    a1.printList()\n",
    "    "
   ]
  },
  {
   "cell_type": "code",
   "execution_count": null,
   "metadata": {},
   "outputs": [],
   "source": []
  }
 ],
 "metadata": {
  "kernelspec": {
   "display_name": "Python 3",
   "language": "python",
   "name": "python3"
  },
  "language_info": {
   "codemirror_mode": {
    "name": "ipython",
    "version": 3
   },
   "file_extension": ".py",
   "mimetype": "text/x-python",
   "name": "python",
   "nbconvert_exporter": "python",
   "pygments_lexer": "ipython3",
   "version": "3.7.6"
  }
 },
 "nbformat": 4,
 "nbformat_minor": 2
}
